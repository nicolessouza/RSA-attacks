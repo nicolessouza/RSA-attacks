{
 "cells": [
  {
   "cell_type": "code",
   "execution_count": 2,
   "metadata": {},
   "outputs": [
    {
     "name": "stdout",
     "output_type": "stream",
     "text": [
      "Mensagem criptografada: 6953113584953984201226520388870684776393744306027983907441342234795490676160893609794188847993555311906762579553903537602993812000237908660578006322254013\n",
      "Expoente e1: 65537\n",
      "Expoente e2: 587\n",
      "Ataque bem sucedido!\n",
      "Mensagem descriptografada: minha senha do banco é 1234\n"
     ]
    }
   ],
   "source": [
    "# Primeiro Exemplo de uso\n",
    "from common_module_functions import *\n",
    "\n",
    "n, e1 = generate_keys(512)\n",
    "e2 = 587\n",
    "\n",
    "msg = \"minha senha do banco é 1234\"\n",
    "msg_int = str_to_int(msg)\n",
    "if msg_int > n:\n",
    "    raise ValueError(\"A mensagem deve ser menor que n.\")\n",
    "else:\n",
    "    c1 = encrypt(msg_int, e1, n)\n",
    "    c2 = encrypt(msg_int, e2, n)\n",
    "    print(f\"Mensagem criptografada: {c1}\")\n",
    "    print(f\"Expoente e1: {e1}\")\n",
    "    print(f\"Expoente e2: {e2}\")\n",
    "\n",
    "    # Realiza o ataque\n",
    "    try:\n",
    "        message = attack(c1, c2, e1, e2, n)\n",
    "        message = int_to_str(message)\n",
    "        print(\"Ataque bem sucedido!\")\n",
    "        print(f\"Mensagem descriptografada: {message}\")\n",
    "    except Exception as e:\n",
    "        print(\"Ataque falhou.\")\n",
    "        print(e)\n"
   ]
  }
 ],
 "metadata": {
  "kernelspec": {
   "display_name": "Python 3",
   "language": "python",
   "name": "python3"
  },
  "language_info": {
   "codemirror_mode": {
    "name": "ipython",
    "version": 3
   },
   "file_extension": ".py",
   "mimetype": "text/x-python",
   "name": "python",
   "nbconvert_exporter": "python",
   "pygments_lexer": "ipython3",
   "version": "3.11.1"
  }
 },
 "nbformat": 4,
 "nbformat_minor": 2
}
