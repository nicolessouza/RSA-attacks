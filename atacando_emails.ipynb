{
 "cells": [
  {
   "cell_type": "code",
   "execution_count": 2,
   "metadata": {},
   "outputs": [],
   "source": [
    "# usando autoreload no notebook\n",
    "%load_ext autoreload\n",
    "%autoreload 2"
   ]
  },
  {
   "cell_type": "code",
   "execution_count": 3,
   "metadata": {},
   "outputs": [],
   "source": [
    "# Importando módulos\n",
    "\n",
    "from hastads_function import *\n",
    "from common_module_functions import *\n",
    "from utils import *"
   ]
  },
  {
   "cell_type": "markdown",
   "metadata": {},
   "source": [
    "## Utilizando o ataque de módulo comum"
   ]
  },
  {
   "cell_type": "markdown",
   "metadata": {},
   "source": [
    "### Primeiro caso: p e q pequenos"
   ]
  },
  {
   "cell_type": "code",
   "execution_count": 4,
   "metadata": {},
   "outputs": [],
   "source": [
    "# Criando dicionário para juntar os 2 arquivos de texto do caso Common Modulus Attack\n",
    "email_common_modulus = {\n",
    "    'email1.eml': {},\n",
    "    'email2.eml': {}\n",
    "}\n",
    "\n",
    "for key in email_common_modulus:\n",
    "    email_common_modulus[key] = ler_arquivo_eml_e_converter_para_lista(key)"
   ]
  },
  {
   "cell_type": "code",
   "execution_count": 5,
   "metadata": {},
   "outputs": [
    {
     "name": "stdout",
     "output_type": "stream",
     "text": [
      "Não foi possível encontrar o inverso modular de 114 modulo 779, logo, eles possuem um fator em comum.\n",
      "Os fatores primos de N são p=19 e q=41\n"
     ]
    }
   ],
   "source": [
    "# Exemplo de uso\n",
    "\n",
    "from common_module_functions import PAndQFoundException\n",
    "\n",
    "p_e_q_encontrados = False\n",
    "\n",
    "n = email_common_modulus.get('email1.eml').get('N')\n",
    "e1 = email_common_modulus.get('email1.eml').get('e')\n",
    "e2 = email_common_modulus.get('email2.eml').get('e')\n",
    "corpo_c1 = email_common_modulus.get('email1.eml').get('corpo')\n",
    "corpo_c2 = email_common_modulus.get('email2.eml').get('corpo')\n",
    "\n",
    "corpo_descriptografado = []\n",
    "assunto_descriptografado = []\n",
    "\n",
    "# Realiza o ataque no corpo dos emails\n",
    "try:\n",
    "    for c1, c2 in zip(corpo_c1, corpo_c2):\n",
    "        caractere = attack(c1, c2, e1, e2, n)\n",
    "        caractere = int_to_str(caractere)\n",
    "        corpo_descriptografado.append(caractere)\n",
    "except PAndQFoundException as err:\n",
    "    print(f\"Os fatores primos de N são p={err.p} e q={err.q}\")\n",
    "    p_e_q_encontrados = True\n",
    "    p=err.p\n",
    "    q=err.q\n",
    "\n",
    "# Realiza o ataque no assunto dos emails\n",
    "assunto_c1 = email_common_modulus.get('email1.eml').get('assunto')\n",
    "assunto_c2 = email_common_modulus.get('email2.eml').get('assunto')\n",
    "\n",
    "if not p_e_q_encontrados:\n",
    "    try:\n",
    "        for c1, c2 in zip(assunto_c1, assunto_c2):\n",
    "            caractere = attack(c1, c2, e1, e2, n)\n",
    "            caractere = int_to_str(caractere)\n",
    "            assunto_descriptografado.append(caractere)\n",
    "\n",
    "    except PAndQFoundException as err:\n",
    "            print(f\"Os fatores primos de N são p={err.p} e q={err.q}\")\n",
    "            p_e_q_encontrados = True\n",
    "            p=err.p\n",
    "            q=err.q\n",
    "        "
   ]
  },
  {
   "cell_type": "code",
   "execution_count": 6,
   "metadata": {},
   "outputs": [
    {
     "name": "stdout",
     "output_type": "stream",
     "text": [
      "Email Descriptografado!\n",
      "Assunto: duvido vc descobrir\n",
      "Corpo: algebra é muito legal"
     ]
    }
   ],
   "source": [
    "# Imprime a mensagem descriptografada\n",
    "if p_e_q_encontrados:\n",
    "    corpo_descriptografado = []\n",
    "    assunto_descriptografado = []\n",
    "\n",
    "    for c1 in corpo_c1:\n",
    "        m = decrypt_pq(c1, p, q, e1)\n",
    "        m = chr(m)\n",
    "        corpo_descriptografado.append(m)\n",
    "\n",
    "    for c1 in assunto_c1:\n",
    "        m = decrypt_pq(c1, p, q, e1)\n",
    "        m = chr(m)\n",
    "        assunto_descriptografado.append(m)\n",
    "\n",
    "print(\"Email Descriptografado!\")\n",
    "print(\"Assunto: \", end='')\n",
    "for i in assunto_descriptografado:\n",
    "    print(i, end='')\n",
    "print('\\nCorpo: ', end='')\n",
    "for i in corpo_descriptografado:\n",
    "    print(i, end='')"
   ]
  },
  {
   "cell_type": "markdown",
   "metadata": {},
   "source": [
    "### Segundo caso: p e q grandes:"
   ]
  },
  {
   "cell_type": "code",
   "execution_count": 17,
   "metadata": {},
   "outputs": [],
   "source": [
    "# Criando dicionário para juntar os 2 arquivos de texto do caso Common Modulus Attack\n",
    "email_common_modulus = {\n",
    "    'common_module1.eml': {},\n",
    "    'common_module2.eml': {}\n",
    "}\n",
    "\n",
    "for key in email_common_modulus:\n",
    "    email_common_modulus[key] = ler_arquivo_eml_e_converter_para_lista(key, False)"
   ]
  },
  {
   "cell_type": "code",
   "execution_count": 25,
   "metadata": {},
   "outputs": [
    {
     "name": "stdout",
     "output_type": "stream",
     "text": [
      "Email Descriptografado!\n",
      "Corpo: duvido você descobrir"
     ]
    }
   ],
   "source": [
    "# Exemplo de uso\n",
    "\n",
    "from common_module_functions import PAndQFoundException\n",
    "\n",
    "p_e_q_encontrados = False\n",
    "\n",
    "n = email_common_modulus.get('common_module1.eml').get('N')\n",
    "e1 = email_common_modulus.get('common_module1.eml').get('e')\n",
    "e2 = email_common_modulus.get('common_module2.eml').get('e')\n",
    "corpo_c1 = email_common_modulus.get('common_module1.eml').get('corpo')\n",
    "corpo_c2 = email_common_modulus.get('common_module2.eml').get('corpo')\n",
    "\n",
    "corpo_descriptografado = []\n",
    "\n",
    "# Realiza o ataque no corpo dos emails\n",
    "try:\n",
    "    for c1, c2 in zip(corpo_c1, corpo_c2):\n",
    "        caractere = attack(c1, c2, e1, e2, n)\n",
    "        caractere = chr(caractere)\n",
    "        corpo_descriptografado.append(caractere)\n",
    "except PAndQFoundException as err:\n",
    "    print(f\"Os fatores primos de N são p={err.p} e q={err.q}\")\n",
    "    p_e_q_encontrados = True\n",
    "    p=err.p\n",
    "    q=err.q\n",
    "    \n",
    "# Imprime a mensagem descriptografada\n",
    "if not p_e_q_encontrados:\n",
    "    print(\"Email Descriptografado!\")\n",
    "    print(\"Corpo: \", end='')\n",
    "    for i in corpo_descriptografado:\n",
    "        print(i, end='')\n",
    "else:\n",
    "    corpo_descriptografado = []\n",
    "\n",
    "    for c1 in corpo_c1:\n",
    "        m = decrypt_pq(c1, p, q, e1)\n",
    "        m = chr(m)\n",
    "        corpo_descriptografado.append(m)\n",
    "\n",
    "    print(\"Email Descriptografado!\")\n",
    "    print(\"Corpo: \", end='')\n",
    "    for i in corpo_descriptografado:\n",
    "        print(i, end='')"
   ]
  },
  {
   "cell_type": "markdown",
   "metadata": {},
   "source": [
    "## Utilizando o ataque de Hastad's"
   ]
  },
  {
   "cell_type": "markdown",
   "metadata": {},
   "source": [
    "### Primeiro caso: um par de N's não coprimos"
   ]
  },
  {
   "cell_type": "code",
   "execution_count": 7,
   "metadata": {},
   "outputs": [],
   "source": [
    "# Criando dicionário para juntar os 3 arquivos de texto do caso Hastads Broadcast Attack\n",
    "email_hastads = {\n",
    "    'email_pessoa1.eml': [],\n",
    "    'email_pessoa2.eml': [],\n",
    "    'email_pessoa3.eml': []\n",
    "}\n",
    "\n",
    "for key in email_hastads:\n",
    "    email_hastads[key] = ler_arquivo_eml_e_converter_para_lista(key)"
   ]
  },
  {
   "cell_type": "code",
   "execution_count": 8,
   "metadata": {},
   "outputs": [
    {
     "name": "stdout",
     "output_type": "stream",
     "text": [
      "Os fatores primos de N são p:29 e q:251\n"
     ]
    }
   ],
   "source": [
    "# Descripitografando a mensagem dos emails\n",
    "\n",
    "n1 = email_hastads.get('email_pessoa1.eml').get('N')\n",
    "n2 = email_hastads.get('email_pessoa2.eml').get('N')\n",
    "n3 = email_hastads.get('email_pessoa3.eml').get('N')\n",
    "\n",
    "corpo_c1 = email_hastads.get('email_pessoa1.eml').get('corpo')\n",
    "corpo_c2 = email_hastads.get('email_pessoa2.eml').get('corpo')\n",
    "corpo_c3 = email_hastads.get('email_pessoa3.eml').get('corpo')\n",
    "\n",
    "corpo_descriptografado = []\n",
    "assunto_descriptografado = []\n",
    "p_e_q_encontrados = False\n",
    "modulus = [n1, n2, n3]\n",
    "\n",
    "for c1, c2, c3 in zip(corpo_c1, corpo_c2, corpo_c3):\n",
    "    ciphertexts = [c1, c2, c3]\n",
    "    try: \n",
    "        caractere = hastads_broadcast_attack(ciphertexts, modulus)\n",
    "        caractere = chr(caractere)\n",
    "        corpo_descriptografado.append(caractere)\n",
    "    except PAndQFoundException as err:\n",
    "        print(f\"Os fatores primos de N são p:{err.p} e q:{err.q}\")\n",
    "        p_e_q_encontrados = True\n",
    "        p = err.p\n",
    "        q = err.q\n",
    "        break\n",
    "\n",
    "if not p_e_q_encontrados:\n",
    "    for c1, c2, c3 in zip(assunto_c1, assunto_c2, assunto_c3):\n",
    "        ciphertexts = [c1, c2, c3]\n",
    "        try: \n",
    "            caractere = hastads_broadcast_attack(ciphertexts, modulus)\n",
    "            caractere = chr(caractere)\n",
    "            assunto_descriptografado.append(caractere)\n",
    "        except PAndQFoundException as err:\n",
    "            print(f\"Os fatores primos de N são p:{err.p} e q:{err.q}\")\n",
    "            p_e_q_encontrados = True\n",
    "            p = err.p\n",
    "            q = err.q\n",
    "            break\n"
   ]
  },
  {
   "cell_type": "code",
   "execution_count": 9,
   "metadata": {},
   "outputs": [
    {
     "name": "stdout",
     "output_type": "stream",
     "text": [
      "Email Descriptografado!\n",
      "Assunto: agora esse é impossível\n",
      "Corpo: pois não é que vc descobriu mesmo"
     ]
    }
   ],
   "source": [
    "e = 3\n",
    "\n",
    "if p_e_q_encontrados:\n",
    "    corpo_descriptografado = []\n",
    "    assunto_descriptografado = []\n",
    "\n",
    "    # descobrindo qual dos n's é o produto de p e q para saber qual corpo e assunto descriptografar\n",
    "    if p*q == n1:\n",
    "        corpo_c = corpo_c1\n",
    "        assunto_c = email_hastads.get('email_pessoa1.eml').get('assunto')\n",
    "    elif p*q == n2:\n",
    "        corpo_c = corpo_c2\n",
    "        assunto_c = email_hastads.get('email_pessoa2.eml').get('assunto')\n",
    "    elif p*q == n3:\n",
    "        corpo_c = corpo_c3\n",
    "        assunto_c = email_hastads.get('email_pessoa3.eml').get('assunto')\n",
    "\n",
    "    for c in corpo_c:\n",
    "        m = decrypt_pq(c, p, q, e)\n",
    "        m = chr(m)\n",
    "        corpo_descriptografado.append(m)\n",
    "\n",
    "    for c in assunto_c:\n",
    "        m = decrypt_pq(c, p, q, e)\n",
    "        m = chr(m)\n",
    "        assunto_descriptografado.append(m)\n",
    "\n",
    "print(\"Email Descriptografado!\")\n",
    "print(\"Assunto: \", end='')\n",
    "for i in assunto_descriptografado:\n",
    "    print(i, end='')\n",
    "print('\\nCorpo: ', end='')\n",
    "for i in corpo_descriptografado:\n",
    "    print(i, end='')\n",
    "\n",
    "    "
   ]
  },
  {
   "cell_type": "markdown",
   "metadata": {},
   "source": [
    "### Segundo caso: N's coprimos"
   ]
  },
  {
   "cell_type": "code",
   "execution_count": 27,
   "metadata": {},
   "outputs": [],
   "source": [
    "# Criando dicionário para juntar os 3 arquivos de texto do caso Hastads Broadcast Attack\n",
    "email_hastads = {\n",
    "    'hastad_pessoa1.eml': [],\n",
    "    'hastad_pessoa2.eml': [],\n",
    "    'hastad_pessoa3.eml': []\n",
    "}\n",
    "\n",
    "for key in email_hastads:\n",
    "    email_hastads[key] = ler_arquivo_eml_e_converter_para_lista(key, False)"
   ]
  },
  {
   "cell_type": "code",
   "execution_count": 29,
   "metadata": {},
   "outputs": [],
   "source": [
    "# Descripitografando a mensagem dos emails\n",
    "\n",
    "n1 = email_hastads.get('hastad_pessoa1.eml').get('N')\n",
    "n2 = email_hastads.get('hastad_pessoa2.eml').get('N')\n",
    "n3 = email_hastads.get('hastad_pessoa3.eml').get('N')\n",
    "\n",
    "corpo_c1 = email_hastads.get('hastad_pessoa1.eml').get('corpo')\n",
    "corpo_c2 = email_hastads.get('hastad_pessoa2.eml').get('corpo')\n",
    "corpo_c3 = email_hastads.get('hastad_pessoa3.eml').get('corpo')\n",
    "\n",
    "corpo_descriptografado = []\n",
    "p_e_q_encontrados = False\n",
    "modulus = [n1, n2, n3]\n",
    "\n",
    "for c1, c2, c3 in zip(corpo_c1, corpo_c2, corpo_c3):\n",
    "    ciphertexts = [c1, c2, c3]\n",
    "    try: \n",
    "        caractere = hastads_broadcast_attack(ciphertexts, modulus)\n",
    "        caractere = chr(caractere)\n",
    "        corpo_descriptografado.append(caractere)\n",
    "    except PAndQFoundException as err:\n",
    "        print(f\"Os fatores primos de N são p:{err.p} e q:{err.q}\")\n",
    "        p_e_q_encontrados = True\n",
    "        p = err.p\n",
    "        q = err.q\n",
    "        break"
   ]
  },
  {
   "cell_type": "code",
   "execution_count": 31,
   "metadata": {},
   "outputs": [
    {
     "name": "stdout",
     "output_type": "stream",
     "text": [
      "Email Descriptografado!\n",
      "Corpo: agora esse é impossível"
     ]
    }
   ],
   "source": [
    "if not p_e_q_encontrados:\n",
    "    print(\"Email Descriptografado!\")\n",
    "    print(\"Corpo: \", end='')\n",
    "    for i in corpo_descriptografado:\n",
    "        print(i, end='')"
   ]
  }
 ],
 "metadata": {
  "kernelspec": {
   "display_name": "Python 3",
   "language": "python",
   "name": "python3"
  },
  "language_info": {
   "codemirror_mode": {
    "name": "ipython",
    "version": 3
   },
   "file_extension": ".py",
   "mimetype": "text/x-python",
   "name": "python",
   "nbconvert_exporter": "python",
   "pygments_lexer": "ipython3",
   "version": "3.11.1"
  }
 },
 "nbformat": 4,
 "nbformat_minor": 2
}
