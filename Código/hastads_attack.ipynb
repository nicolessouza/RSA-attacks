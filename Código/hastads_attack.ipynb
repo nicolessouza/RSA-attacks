{
 "cells": [
  {
   "cell_type": "code",
   "execution_count": 1,
   "metadata": {},
   "outputs": [],
   "source": [
    "from hastads_function import *\n",
    "from common_module_functions import *\n",
    "from utils import *"
   ]
  },
  {
   "cell_type": "code",
   "execution_count": 28,
   "metadata": {},
   "outputs": [],
   "source": [
    "# Criptografando mensagem para teste\n",
    "\n",
    "blocos_c1 = []\n",
    "blocos_c2 = []\n",
    "blocos_c3 = []\n",
    "\n",
    "e = 3\n",
    "n1 = 9797 # 97*101\n",
    "n2 = 40067 # 103*389\n",
    "n3 = 29993 # 89*337\n",
    "\n",
    "# mensagem a ser criptografada\n",
    "msg = ['f', 'u', 'i', '', 'd', 'e', 's', 'c', 'o', 'b', 'e', 'r', 't', 'o', '!', '!', '!']\n",
    "\n",
    "for i in range(0, len(msg)):\n",
    "    msg[i] = str_to_int(msg[i])\n",
    "\n",
    "for i in range(0, len(msg)):\n",
    "    c1 = (msg[i])**e%n1\n",
    "    c2 = (msg[i])**e%n2\n",
    "    c3 = (msg[i])**e%n3\n",
    "    blocos_c1.append(c1)\n",
    "    blocos_c2.append(c2)\n",
    "    blocos_c3.append(c3)\n"
   ]
  },
  {
   "cell_type": "code",
   "execution_count": 30,
   "metadata": {},
   "outputs": [
    {
     "name": "stdout",
     "output_type": "stream",
     "text": [
      "O ataque foi um sucesso!\n",
      "Mensagem descriptografada: fui\u0000descoberto!!!"
     ]
    }
   ],
   "source": [
    "msg_descriptografada = []\n",
    "p_e_q_encontrados = False\n",
    "modulus = [n1, n2, n3]\n",
    "\n",
    "for c1, c2, c3 in zip(blocos_c1, blocos_c2, blocos_c3):\n",
    "    ciphertexts = [c1, c2, c3]\n",
    "    try: \n",
    "        caractere = hastads_broadcast_attack(ciphertexts, modulus)\n",
    "        caractere = chr(caractere)\n",
    "        msg_descriptografada.append(caractere)\n",
    "    except PAndQFoundException as err:\n",
    "        print(f\"Os fatores primos de N são p:{err.p} e q:{err.q}\")\n",
    "        p_e_q_encontrados = True\n",
    "        p = err.p\n",
    "        q = err.q\n",
    "        break\n",
    "\n",
    "if not p_e_q_encontrados:\n",
    "    print(\"O ataque foi um sucesso!\", end=\"\\n\")\n",
    "    print(\"Mensagem descriptografada: \", end=\"\")\n",
    "    for i in msg_descriptografada:\n",
    "        print(i, end=\"\")\n"
   ]
  }
 ],
 "metadata": {
  "kernelspec": {
   "display_name": "Python 3",
   "language": "python",
   "name": "python3"
  },
  "language_info": {
   "codemirror_mode": {
    "name": "ipython",
    "version": 3
   },
   "file_extension": ".py",
   "mimetype": "text/x-python",
   "name": "python",
   "nbconvert_exporter": "python",
   "pygments_lexer": "ipython3",
   "version": "3.11.1"
  }
 },
 "nbformat": 4,
 "nbformat_minor": 2
}
